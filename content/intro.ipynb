{
 "cells": [
  {
   "cell_type": "markdown",
   "metadata": {},
   "source": [
    "# momepy User Guide"
   ]
  },
  {
   "cell_type": "markdown",
   "metadata": {},
   "source": [
    "<a href=\"https://travis-ci.org/martinfleis/momepy-guide\"><img src=\"https://travis-ci.org/martinfleis/momepy-guide.svg?branch=master\" class=\"left\"></a>\n",
    "<div style=\"clear:both;\"></div>"
   ]
  },
  {
   "cell_type": "markdown",
   "metadata": {},
   "source": [
    "Momepy is a project allowing advanced quantitative analysis of urban form - urban morphometrics.\n",
    "This toolkit aims to provide tools for the development of complex frameworks for a description of urban structures.\n",
    "\n",
    "## User Guide\n",
    "This user guide covers essential features of `momepy`, mostly in the form of interactive Jupyter notebooks.\n",
    "Reading this guide, you will learn:\n",
    "\n",
    "* **[data structure](data_structure)** used in `momepy`,\n",
    "* how to **[generate morphological elements](elements/elements)** like morphological tessellation and link them all together,\n",
    "* how to calculate **[simple morphometric characters](simple/simple)**,\n",
    "* how to calculate morphometric **[characters based on multiple sources](combined/combined)**,\n",
    "* how to use **[spatial weights matrix](weights/weights)** with `momepy`, and\n",
    "* how to do **[network analysis](graph/graph)**.\n",
    "\n",
    "Notebooks cover just a small selection of functions as an illustration of principles. For a full overview of `momepy` capabilities, head to [API](http://docs.momepy.org/en/latest/api.html).\n",
    "\n",
    "## Installation\n",
    "For installation instructions, please refer to the [documentation](https://docs.momepy.org/en/latest/install.html).\n",
    "\n",
    "## API reference\n",
    "The API reference for all functions included in momepy is available at [docs.momepy.org](https://docs.momepy.org/en/latest/api.html).\n",
    "\n",
    "## Contributing\n",
    "The contributing guidelines are available in the [documentation](https://docs.momepy.org/en/latest/contributing.html)."
   ]
  },
  {
   "cell_type": "code",
   "execution_count": null,
   "metadata": {},
   "outputs": [],
   "source": []
  }
 ],
 "metadata": {
  "kernelspec": {
   "display_name": "Python (momepy_guide)",
   "language": "python",
   "name": "mmp_guide"
  },
  "language_info": {
   "codemirror_mode": {
    "name": "ipython",
    "version": 3
   },
   "file_extension": ".py",
   "mimetype": "text/x-python",
   "name": "python",
   "nbconvert_exporter": "python",
   "pygments_lexer": "ipython3",
   "version": "3.7.3"
  }
 },
 "nbformat": 4,
 "nbformat_minor": 2
}
